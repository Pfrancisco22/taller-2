{
  "nbformat": 4,
  "nbformat_minor": 0,
  "metadata": {
    "colab": {
      "provenance": [],
      "authorship_tag": "ABX9TyOO4ef656+L4m/Ap5Dsfr1C",
      "include_colab_link": true
    },
    "kernelspec": {
      "name": "python3",
      "display_name": "Python 3"
    },
    "language_info": {
      "name": "python"
    }
  },
  "cells": [
    {
      "cell_type": "markdown",
      "metadata": {
        "id": "view-in-github",
        "colab_type": "text"
      },
      "source": [
        "<a href=\"https://colab.research.google.com/github/Pfrancisco22/taller-3_prog/blob/main/pseudocodigo.ipynb\" target=\"_parent\"><img src=\"https://colab.research.google.com/assets/colab-badge.svg\" alt=\"Open In Colab\"/></a>"
      ]
    },
    {
      "cell_type": "code",
      "execution_count": null,
      "metadata": {
        "id": "SzfpEwguZBh-"
      },
      "outputs": [],
      "source": [
        "#PSEUDOCODIGO\n",
        "programamaparaCalcularfacturadeenergiaelectrica\n",
        "start\n",
        "// DECLARAR DE VARIABLES\n",
        "Declare float consumo\n",
        "Declare float costokwh\n",
        "Declare integer estrato\n",
        "Declare integer altitud\n",
        "Declare float consumobasico\n",
        "Declare float subtotalbasico\n",
        "Declare float subtotaladicional\n",
        "Declare float subtotal\n",
        "Declare float subsidio\n",
        "Declare float contribucion\n",
        "Declare float total\n",
        "\n",
        "// PEDIR DATOS AL USUARIO\n",
        "\n",
        "Display \"Ingrese el consumo en kWh\"\n",
        "input consumo\n",
        "\n",
        "Display \"Ingrese el costo del kWh en pesos colombianos\"\n",
        "input costokwh\n",
        "\n",
        "Display \"Ingrese el estrato socioeconómico de la residencia\"\n",
        "input estrato\n",
        "\n",
        "Display \"Ingrese la altitud de la zona (metros sobre el nivel del mar)\"\n",
        "input altitud\n",
        "\n",
        "// DETERMINAR EL CONSUMO BASICO\n",
        "\n",
        "if altitud > 1000 then\n",
        "    set consumobasico = 130\n",
        "else\n",
        "    set consumobasico = 173\n",
        "end if\n",
        "\n",
        "// CALCULAR EL SUBTOTAL\n",
        "\n",
        "if consumo <= consumo_basico then\n",
        "    set subtotalbasico = consumo * costokwh\n",
        "    set subtotal = subtotalbasico\n",
        "else\n",
        "    set subtotalbasico = consumobasico * costokwh\n",
        "    set subtotaladicional = (consumo - consumobasico) * costokwh\n",
        "    set subtotal = subtotalbasico + subtotaladicional\n",
        "end if\n",
        "\n",
        "// CALCULAR SUBSIDIO O CONTRIBUCIÓN SEGÚN EL ESTRATO\n",
        "\n",
        "set subsidio = 0\n",
        "set contribucion = 0\n",
        "\n",
        "if estrato == 1 then\n",
        "    set subsidio = subtotalbasico * 0.60\n",
        "elseif estrato == 2 then\n",
        "    set subsidio = subtotalbasico * 0.50\n",
        "elseif estrato == 3 then\n",
        "    set subsidio = subtotalbasico * 0.15\n",
        "elseif estrato == 5 or  == 6 then\n",
        "    set contribucion = subtotal * 0.20\n",
        "end if\n",
        "\n",
        "// CALCULAR  TOTAL A PAGAR\n",
        "\n",
        "set total = subtotal - subsidio + contribucion\n",
        "\n",
        "// MOSTRAR RESULTADO FNAL\n",
        "\n",
        "Display \"El total a pagar es: \", total, \"pesos colombianos\"\n",
        "\n",
        "end"
      ]
    }
  ]
}