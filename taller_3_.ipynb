{
  "nbformat": 4,
  "nbformat_minor": 0,
  "metadata": {
    "colab": {
      "provenance": [],
      "authorship_tag": "ABX9TyPUF+KST6IJlwzS2RaJBjn7",
      "include_colab_link": true
    },
    "kernelspec": {
      "name": "python3",
      "display_name": "Python 3"
    },
    "language_info": {
      "name": "python"
    }
  },
  "cells": [
    {
      "cell_type": "markdown",
      "metadata": {
        "id": "view-in-github",
        "colab_type": "text"
      },
      "source": [
        "<a href=\"https://colab.research.google.com/github/Pfrancisco22/taller-3_prog/blob/main/taller_3_.ipynb\" target=\"_parent\"><img src=\"https://colab.research.google.com/assets/colab-badge.svg\" alt=\"Open In Colab\"/></a>"
      ]
    },
    {
      "cell_type": "code",
      "execution_count": 7,
      "metadata": {
        "id": "Jj05ZctPFl3R"
      },
      "outputs": [],
      "source": [
        "\n",
        ""
      ]
    },
    {
      "cell_type": "code",
      "source": [
        "#calcularfacturadeenergia(consumo, costokwh, estrato, altitud):\n",
        "consumo=int(input(\"ingrese la cantidad de energia consumida : \"))\n",
        "costokwh=int(input(\"ingrese el valor del kilovatio en pesos colombianos: \"))\n",
        "estrato=int(input(\"ingrese el estrato social de su residencia: \"))\n",
        "altitud=int(input(\"ingrese la altitud en metros sobre el nivel del mar de la residencia: \"))\n",
        "\n",
        "if altitud > 1000:\n",
        "  consumobasico = 130\n",
        "else:\n",
        "  consumobasico = 173\n",
        "\n",
        "if consumo <= consumobasico:\n",
        "  totalbasico = consumo * costokwh\n",
        "  if estrato == 1:\n",
        "    subsidio = totalbasico * 0.60\n",
        "  elif estrato == 2:\n",
        "    subsidio = totalbasico * 0.50\n",
        "  elif estrato == 3:\n",
        "    subsidio = totalbasico * 0.15\n",
        "  else:\n",
        "    subsidio = 0\n",
        "  totalapagar = totalbasico - subsidio\n",
        "else:\n",
        "  totalbasico = consumobasico * costokwh\n",
        "  totaladicional = (consumo - consumobasico) * costokwh\n",
        "  subtotal = totalbasico + totaladicional\n",
        "  if estrato >= 5:\n",
        "    contribucion = subtotal * 0.20\n",
        "  else:\n",
        "    contribucion = 0\n",
        "  totalapagar = subtotal + contribucion\n",
        "print(\"total a pagar en la factura de energia en pesos colombianos:\", totalapagar)\n"
      ],
      "metadata": {
        "colab": {
          "base_uri": "https://localhost:8080/"
        },
        "id": "23fFDZ4QXH0E",
        "outputId": "446fe2a3-a405-44d1-aa6b-2cf3c2951eba"
      },
      "execution_count": 8,
      "outputs": [
        {
          "output_type": "stream",
          "name": "stdout",
          "text": [
            "ingrese la cantidad de energia consumida : 100\n",
            "ingrese el valor del kilovatio en pesos colombianos: 500\n",
            "ingrese el estrato social de su residencia: 1\n",
            "ingrese la altitud en metros sobre el nivel del mar de la residencia: 950\n",
            "total a pagar en la factura de energia en pesos colombianos: 20000.0\n"
          ]
        }
      ]
    }
  ]
}