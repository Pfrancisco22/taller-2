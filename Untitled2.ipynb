{
  "nbformat": 4,
  "nbformat_minor": 0,
  "metadata": {
    "colab": {
      "provenance": [],
      "authorship_tag": "ABX9TyMw1re2/zz6hPjkiv3Zt5vu",
      "include_colab_link": true
    },
    "kernelspec": {
      "name": "python3",
      "display_name": "Python 3"
    },
    "language_info": {
      "name": "python"
    }
  },
  "cells": [
    {
      "cell_type": "markdown",
      "metadata": {
        "id": "view-in-github",
        "colab_type": "text"
      },
      "source": [
        "<a href=\"https://colab.research.google.com/github/Pfrancisco22/taller-2/blob/main/Untitled2.ipynb\" target=\"_parent\"><img src=\"https://colab.research.google.com/assets/colab-badge.svg\" alt=\"Open In Colab\"/></a>"
      ]
    },
    {
      "cell_type": "markdown",
      "source": [
        "ALGORITMO DE FACTURA DE ENERGIA ELECRICA\n",
        "\n",
        "1. INICIO.\n",
        "2. Determinar el consumo, costo_kwh, estrato, altitud, total, consumo basico, subsidio, contribucion como real.\n",
        "3. Determina el consumo básico según la altitud: 173 kWh para altitudes menores a 1000 metros y 130 kWh para altitudes mayores.\n",
        "4. Se calcula el total a pagar multiplicando el consumo por el costo unitario.\n",
        "Subsidios y Contribuciones: Según el estrato, se aplica un subsidio o una contribución: Estrato 1, 2 y 3 reciben subsidios que se restan del total, Estratos 5 y 6 tienen una contribución que se suma al total.\n",
        "5. Calcular el costo adicional basado en el consumo excedente,\n",
        "Sumar el costo adicional al total.\n",
        "6. Mostrar el total a pagar en pesos colombianos.\n",
        "7. FIN.\n",
        "\n"
      ],
      "metadata": {
        "id": "6KBAibuGMe4Y"
      }
    },
    {
      "cell_type": "code",
      "source": [],
      "metadata": {
        "id": "ub9H2S2NMuRw"
      },
      "execution_count": null,
      "outputs": []
    }
  ]
}